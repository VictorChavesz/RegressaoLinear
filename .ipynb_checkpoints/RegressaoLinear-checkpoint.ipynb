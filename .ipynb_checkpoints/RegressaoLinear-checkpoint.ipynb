{
 "cells": [
  {
   "cell_type": "code",
   "execution_count": 25,
   "id": "84f52930-ab10-4ecb-9ebd-9908735d2ab0",
   "metadata": {},
   "outputs": [],
   "source": [
    "#importação das bibliotecas\n",
    "import pandas as pd\n",
    "import numpy as np\n",
    "from sklearn.metrics import accuracy_score\n",
    "from sklearn.preprocessing import StandardScaler\n",
    "from sklearn.linear_model import LinearRegression"
   ]
  },
  {
   "cell_type": "code",
   "execution_count": 26,
   "id": "1116d004-9822-49e2-ad3c-ea5889a6bab5",
   "metadata": {},
   "outputs": [
    {
     "data": {
      "text/html": [
       "<div>\n",
       "<style scoped>\n",
       "    .dataframe tbody tr th:only-of-type {\n",
       "        vertical-align: middle;\n",
       "    }\n",
       "\n",
       "    .dataframe tbody tr th {\n",
       "        vertical-align: top;\n",
       "    }\n",
       "\n",
       "    .dataframe thead th {\n",
       "        text-align: right;\n",
       "    }\n",
       "</style>\n",
       "<table border=\"1\" class=\"dataframe\">\n",
       "  <thead>\n",
       "    <tr style=\"text-align: right;\">\n",
       "      <th></th>\n",
       "      <th>CRIM</th>\n",
       "      <th>ZN</th>\n",
       "      <th>INDUS</th>\n",
       "      <th>CHAS</th>\n",
       "      <th>NOX</th>\n",
       "      <th>RM</th>\n",
       "      <th>AGE</th>\n",
       "      <th>DIS</th>\n",
       "      <th>RAD</th>\n",
       "      <th>TAX</th>\n",
       "      <th>PTRATIO</th>\n",
       "      <th>B</th>\n",
       "      <th>LSTAT</th>\n",
       "      <th>MEDV</th>\n",
       "    </tr>\n",
       "  </thead>\n",
       "  <tbody>\n",
       "    <tr>\n",
       "      <th>0</th>\n",
       "      <td>0.00632</td>\n",
       "      <td>18.0</td>\n",
       "      <td>2.31</td>\n",
       "      <td>0.0</td>\n",
       "      <td>0.538</td>\n",
       "      <td>6.575</td>\n",
       "      <td>65.2</td>\n",
       "      <td>4.0900</td>\n",
       "      <td>1</td>\n",
       "      <td>296</td>\n",
       "      <td>15.3</td>\n",
       "      <td>396.90</td>\n",
       "      <td>4.98</td>\n",
       "      <td>24.0</td>\n",
       "    </tr>\n",
       "    <tr>\n",
       "      <th>1</th>\n",
       "      <td>0.02731</td>\n",
       "      <td>0.0</td>\n",
       "      <td>7.07</td>\n",
       "      <td>0.0</td>\n",
       "      <td>0.469</td>\n",
       "      <td>6.421</td>\n",
       "      <td>78.9</td>\n",
       "      <td>4.9671</td>\n",
       "      <td>2</td>\n",
       "      <td>242</td>\n",
       "      <td>17.8</td>\n",
       "      <td>396.90</td>\n",
       "      <td>9.14</td>\n",
       "      <td>21.6</td>\n",
       "    </tr>\n",
       "    <tr>\n",
       "      <th>2</th>\n",
       "      <td>0.02729</td>\n",
       "      <td>0.0</td>\n",
       "      <td>7.07</td>\n",
       "      <td>0.0</td>\n",
       "      <td>0.469</td>\n",
       "      <td>7.185</td>\n",
       "      <td>61.1</td>\n",
       "      <td>4.9671</td>\n",
       "      <td>2</td>\n",
       "      <td>242</td>\n",
       "      <td>17.8</td>\n",
       "      <td>392.83</td>\n",
       "      <td>4.03</td>\n",
       "      <td>34.7</td>\n",
       "    </tr>\n",
       "    <tr>\n",
       "      <th>3</th>\n",
       "      <td>0.03237</td>\n",
       "      <td>0.0</td>\n",
       "      <td>2.18</td>\n",
       "      <td>0.0</td>\n",
       "      <td>0.458</td>\n",
       "      <td>6.998</td>\n",
       "      <td>45.8</td>\n",
       "      <td>6.0622</td>\n",
       "      <td>3</td>\n",
       "      <td>222</td>\n",
       "      <td>18.7</td>\n",
       "      <td>394.63</td>\n",
       "      <td>2.94</td>\n",
       "      <td>33.4</td>\n",
       "    </tr>\n",
       "    <tr>\n",
       "      <th>4</th>\n",
       "      <td>0.06905</td>\n",
       "      <td>0.0</td>\n",
       "      <td>2.18</td>\n",
       "      <td>0.0</td>\n",
       "      <td>0.458</td>\n",
       "      <td>7.147</td>\n",
       "      <td>54.2</td>\n",
       "      <td>6.0622</td>\n",
       "      <td>3</td>\n",
       "      <td>222</td>\n",
       "      <td>18.7</td>\n",
       "      <td>396.90</td>\n",
       "      <td>NaN</td>\n",
       "      <td>36.2</td>\n",
       "    </tr>\n",
       "  </tbody>\n",
       "</table>\n",
       "</div>"
      ],
      "text/plain": [
       "      CRIM    ZN  INDUS  CHAS    NOX     RM   AGE     DIS  RAD  TAX  PTRATIO  \\\n",
       "0  0.00632  18.0   2.31   0.0  0.538  6.575  65.2  4.0900    1  296     15.3   \n",
       "1  0.02731   0.0   7.07   0.0  0.469  6.421  78.9  4.9671    2  242     17.8   \n",
       "2  0.02729   0.0   7.07   0.0  0.469  7.185  61.1  4.9671    2  242     17.8   \n",
       "3  0.03237   0.0   2.18   0.0  0.458  6.998  45.8  6.0622    3  222     18.7   \n",
       "4  0.06905   0.0   2.18   0.0  0.458  7.147  54.2  6.0622    3  222     18.7   \n",
       "\n",
       "        B  LSTAT  MEDV  \n",
       "0  396.90   4.98  24.0  \n",
       "1  396.90   9.14  21.6  \n",
       "2  392.83   4.03  34.7  \n",
       "3  394.63   2.94  33.4  \n",
       "4  396.90    NaN  36.2  "
      ]
     },
     "execution_count": 26,
     "metadata": {},
     "output_type": "execute_result"
    }
   ],
   "source": [
    "#importação da base de dados\n",
    "data = pd.read_csv('HousingData.csv')\n",
    "data.head()"
   ]
  },
  {
   "cell_type": "code",
   "execution_count": 27,
   "id": "eb520f66-6aed-4ad0-83e9-d3cf1ed6bf83",
   "metadata": {},
   "outputs": [
    {
     "data": {
      "text/plain": [
       "CRIM       20\n",
       "ZN         20\n",
       "INDUS      20\n",
       "CHAS       20\n",
       "NOX         0\n",
       "RM          0\n",
       "AGE        20\n",
       "DIS         0\n",
       "RAD         0\n",
       "TAX         0\n",
       "PTRATIO     0\n",
       "B           0\n",
       "LSTAT      20\n",
       "MEDV        0\n",
       "dtype: int64"
      ]
     },
     "execution_count": 27,
     "metadata": {},
     "output_type": "execute_result"
    }
   ],
   "source": [
    "#verificando se existem dados nulos\n",
    "data.isnull().sum()"
   ]
  },
  {
   "cell_type": "code",
   "execution_count": 20,
   "id": "dfacb3ed-981c-4ceb-9dfd-83bdaf86519a",
   "metadata": {},
   "outputs": [
    {
     "data": {
      "text/plain": [
       "count    486.000000\n",
       "mean       3.611874\n",
       "std        8.720192\n",
       "min        0.006320\n",
       "25%        0.081900\n",
       "50%        0.253715\n",
       "75%        3.560263\n",
       "max       88.976200\n",
       "Name: CRIM, dtype: float64"
      ]
     },
     "execution_count": 20,
     "metadata": {},
     "output_type": "execute_result"
    }
   ],
   "source": [
    "data[\"CRIM\"].describe()"
   ]
  },
  {
   "cell_type": "code",
   "execution_count": 28,
   "id": "a392a302-d856-40f0-845d-d16357312779",
   "metadata": {},
   "outputs": [
    {
     "data": {
      "text/plain": [
       "0.253715"
      ]
     },
     "execution_count": 28,
     "metadata": {},
     "output_type": "execute_result"
    }
   ],
   "source": [
    "#tratando valores nulos com o valor das medianas\n",
    "medianCRIM = data[\"CRIM\"].median(skipna = True)\n",
    "medianCRIM"
   ]
  },
  {
   "cell_type": "code",
   "execution_count": 31,
   "id": "e92ea2da-ba1e-4ffc-9282-50692f79185e",
   "metadata": {},
   "outputs": [],
   "source": [
    "data.fillna({\"CRIM\":medianCRIM},inplace = True)"
   ]
  },
  {
   "cell_type": "code",
   "execution_count": 32,
   "id": "4c4948cd-17fe-4bb8-b7bb-7d27e1bfddc9",
   "metadata": {},
   "outputs": [
    {
     "data": {
      "text/plain": [
       "0.0"
      ]
     },
     "execution_count": 32,
     "metadata": {},
     "output_type": "execute_result"
    }
   ],
   "source": [
    "medianZN = data[\"ZN\"].median(skipna = True)\n",
    "medianZN"
   ]
  },
  {
   "cell_type": "code",
   "execution_count": 34,
   "id": "70956472-806f-4ec2-9413-e20bf214345c",
   "metadata": {},
   "outputs": [],
   "source": [
    "data.fillna({\"ZN\":medianZN},inplace = True)"
   ]
  },
  {
   "cell_type": "code",
   "execution_count": 35,
   "id": "c27ee342-726a-4641-ab72-b0feb5859f7f",
   "metadata": {},
   "outputs": [
    {
     "data": {
      "text/plain": [
       "9.69"
      ]
     },
     "execution_count": 35,
     "metadata": {},
     "output_type": "execute_result"
    }
   ],
   "source": [
    "medianINDUS = data[\"INDUS\"].median(skipna = True)\n",
    "medianINDUS"
   ]
  },
  {
   "cell_type": "code",
   "execution_count": 36,
   "id": "470b386f-af9c-4190-9b00-af9721f91afc",
   "metadata": {},
   "outputs": [],
   "source": [
    "data.fillna({\"INDUS\":medianINDUS},inplace = True)"
   ]
  },
  {
   "cell_type": "code",
   "execution_count": 37,
   "id": "781ab56b-b3f5-4475-8999-b27a4bd4b68e",
   "metadata": {},
   "outputs": [
    {
     "data": {
      "text/plain": [
       "0.0"
      ]
     },
     "execution_count": 37,
     "metadata": {},
     "output_type": "execute_result"
    }
   ],
   "source": [
    "medianCHAS = data[\"CHAS\"].median(skipna = True)\n",
    "medianCHAS"
   ]
  },
  {
   "cell_type": "code",
   "execution_count": 38,
   "id": "80b5d456-41f4-4919-9397-6dccb15d9646",
   "metadata": {},
   "outputs": [],
   "source": [
    "data.fillna({\"CHAS\":medianCHAS},inplace = True)"
   ]
  },
  {
   "cell_type": "code",
   "execution_count": 39,
   "id": "76efa702-7a41-4851-ae72-adf3ef094246",
   "metadata": {},
   "outputs": [
    {
     "data": {
      "text/plain": [
       "76.80000000000001"
      ]
     },
     "execution_count": 39,
     "metadata": {},
     "output_type": "execute_result"
    }
   ],
   "source": [
    "medianAGE = data[\"AGE\"].median(skipna = True)\n",
    "medianAGE"
   ]
  },
  {
   "cell_type": "code",
   "execution_count": 41,
   "id": "46799f48-beee-4167-84bb-33d81f2264fc",
   "metadata": {},
   "outputs": [],
   "source": [
    "data.fillna({\"AGE\":medianAGE},inplace = True)"
   ]
  },
  {
   "cell_type": "code",
   "execution_count": 42,
   "id": "a88a85e6-df8c-4c15-9c76-b39672babeca",
   "metadata": {},
   "outputs": [
    {
     "data": {
      "text/plain": [
       "11.43"
      ]
     },
     "execution_count": 42,
     "metadata": {},
     "output_type": "execute_result"
    }
   ],
   "source": [
    "medianLSTAT = data[\"LSTAT\"].median(skipna = True)\n",
    "medianLSTAT"
   ]
  },
  {
   "cell_type": "code",
   "execution_count": 44,
   "id": "494a684a-abeb-40ba-9cb8-1b442bddf00a",
   "metadata": {},
   "outputs": [],
   "source": [
    "data.fillna({\"LSTAT\":medianLSTAT},inplace = True)"
   ]
  },
  {
   "cell_type": "code",
   "execution_count": 45,
   "id": "cea5ff01-92a0-4052-a7c1-625bbb8024fe",
   "metadata": {},
   "outputs": [
    {
     "data": {
      "text/plain": [
       "CRIM       0\n",
       "ZN         0\n",
       "INDUS      0\n",
       "CHAS       0\n",
       "NOX        0\n",
       "RM         0\n",
       "AGE        0\n",
       "DIS        0\n",
       "RAD        0\n",
       "TAX        0\n",
       "PTRATIO    0\n",
       "B          0\n",
       "LSTAT      0\n",
       "MEDV       0\n",
       "dtype: int64"
      ]
     },
     "execution_count": 45,
     "metadata": {},
     "output_type": "execute_result"
    }
   ],
   "source": [
    "data.isnull().sum()"
   ]
  },
  {
   "cell_type": "code",
   "execution_count": 61,
   "id": "2e32bda5-3aa9-4bab-92bb-c5bbc9eecef2",
   "metadata": {},
   "outputs": [
    {
     "name": "stdout",
     "output_type": "stream",
     "text": [
      "count    506.000000\n",
      "mean       3.479140\n",
      "std        8.570832\n",
      "min        0.006320\n",
      "25%        0.083235\n",
      "50%        0.253715\n",
      "75%        2.808720\n",
      "max       88.976200\n",
      "Name: CRIM, dtype: float64\n",
      "------------------------------\n",
      "count    506.000000\n",
      "mean      10.768775\n",
      "std       23.025124\n",
      "min        0.000000\n",
      "25%        0.000000\n",
      "50%        0.000000\n",
      "75%        0.000000\n",
      "max      100.000000\n",
      "Name: ZN, dtype: float64\n",
      "------------------------------\n",
      "count    506.000000\n",
      "mean      11.028893\n",
      "std        6.704679\n",
      "min        0.460000\n",
      "25%        5.190000\n",
      "50%        9.690000\n",
      "75%       18.100000\n",
      "max       27.740000\n",
      "Name: INDUS, dtype: float64\n",
      "------------------------------\n",
      "count    506.000000\n",
      "mean       0.067194\n",
      "std        0.250605\n",
      "min        0.000000\n",
      "25%        0.000000\n",
      "50%        0.000000\n",
      "75%        0.000000\n",
      "max        1.000000\n",
      "Name: CHAS, dtype: float64\n",
      "------------------------------\n",
      "count    506.000000\n",
      "mean       0.554695\n",
      "std        0.115878\n",
      "min        0.385000\n",
      "25%        0.449000\n",
      "50%        0.538000\n",
      "75%        0.624000\n",
      "max        0.871000\n",
      "Name: NOX, dtype: float64\n",
      "------------------------------\n",
      "count    506.000000\n",
      "mean       6.284634\n",
      "std        0.702617\n",
      "min        3.561000\n",
      "25%        5.885500\n",
      "50%        6.208500\n",
      "75%        6.623500\n",
      "max        8.780000\n",
      "Name: RM, dtype: float64\n",
      "------------------------------\n",
      "count    506.000000\n",
      "mean      68.845850\n",
      "std       27.486962\n",
      "min        2.900000\n",
      "25%       45.925000\n",
      "50%       76.800000\n",
      "75%       93.575000\n",
      "max      100.000000\n",
      "Name: AGE, dtype: float64\n",
      "------------------------------\n",
      "count    506.000000\n",
      "mean       3.795043\n",
      "std        2.105710\n",
      "min        1.129600\n",
      "25%        2.100175\n",
      "50%        3.207450\n",
      "75%        5.188425\n",
      "max       12.126500\n",
      "Name: DIS, dtype: float64\n",
      "------------------------------\n",
      "count    506.000000\n",
      "mean       9.549407\n",
      "std        8.707259\n",
      "min        1.000000\n",
      "25%        4.000000\n",
      "50%        5.000000\n",
      "75%       24.000000\n",
      "max       24.000000\n",
      "Name: RAD, dtype: float64\n",
      "------------------------------\n",
      "count    506.000000\n",
      "mean     408.237154\n",
      "std      168.537116\n",
      "min      187.000000\n",
      "25%      279.000000\n",
      "50%      330.000000\n",
      "75%      666.000000\n",
      "max      711.000000\n",
      "Name: TAX, dtype: float64\n",
      "------------------------------\n",
      "count    506.000000\n",
      "mean      18.455534\n",
      "std        2.164946\n",
      "min       12.600000\n",
      "25%       17.400000\n",
      "50%       19.050000\n",
      "75%       20.200000\n",
      "max       22.000000\n",
      "Name: PTRATIO, dtype: float64\n",
      "------------------------------\n",
      "count    506.000000\n",
      "mean     356.674032\n",
      "std       91.294864\n",
      "min        0.320000\n",
      "25%      375.377500\n",
      "50%      391.440000\n",
      "75%      396.225000\n",
      "max      396.900000\n",
      "Name: B, dtype: float64\n",
      "------------------------------\n",
      "count    506.000000\n",
      "mean      12.664625\n",
      "std        7.017219\n",
      "min        1.730000\n",
      "25%        7.230000\n",
      "50%       11.430000\n",
      "75%       16.570000\n",
      "max       37.970000\n",
      "Name: LSTAT, dtype: float64\n",
      "------------------------------\n",
      "count    506.000000\n",
      "mean      22.532806\n",
      "std        9.197104\n",
      "min        5.000000\n",
      "25%       17.025000\n",
      "50%       21.200000\n",
      "75%       25.000000\n",
      "max       50.000000\n",
      "Name: MEDV, dtype: float64\n",
      "------------------------------\n"
     ]
    }
   ],
   "source": [
    "#verificação da descrição das colunas para o tratamento de outliers\n",
    "for col in data.columns:\n",
    "    print(data[col].describe())\n",
    "    print(\"------------------------------\")"
   ]
  },
  {
   "cell_type": "code",
   "execution_count": null,
   "id": "1f6b2a89-c61c-4630-a9ca-53dc3cfd586f",
   "metadata": {},
   "outputs": [],
   "source": []
  }
 ],
 "metadata": {
  "kernelspec": {
   "display_name": "Python 3 (ipykernel)",
   "language": "python",
   "name": "python3"
  },
  "language_info": {
   "codemirror_mode": {
    "name": "ipython",
    "version": 3
   },
   "file_extension": ".py",
   "mimetype": "text/x-python",
   "name": "python",
   "nbconvert_exporter": "python",
   "pygments_lexer": "ipython3",
   "version": "3.12.7"
  }
 },
 "nbformat": 4,
 "nbformat_minor": 5
}
