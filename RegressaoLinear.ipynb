{
 "cells": [
  {
   "cell_type": "code",
   "execution_count": 113,
   "id": "84f52930-ab10-4ecb-9ebd-9908735d2ab0",
   "metadata": {},
   "outputs": [],
   "source": [
    "#importação das bibliotecas\n",
    "import pandas as pd\n",
    "import numpy as np\n",
    "from sklearn.metrics import accuracy_score\n",
    "from sklearn.preprocessing import StandardScaler\n",
    "from sklearn.linear_model import LinearRegression\n",
    "from sklearn.model_selection import train_test_split"
   ]
  },
  {
   "cell_type": "code",
   "execution_count": 26,
   "id": "1116d004-9822-49e2-ad3c-ea5889a6bab5",
   "metadata": {},
   "outputs": [
    {
     "data": {
      "text/html": [
       "<div>\n",
       "<style scoped>\n",
       "    .dataframe tbody tr th:only-of-type {\n",
       "        vertical-align: middle;\n",
       "    }\n",
       "\n",
       "    .dataframe tbody tr th {\n",
       "        vertical-align: top;\n",
       "    }\n",
       "\n",
       "    .dataframe thead th {\n",
       "        text-align: right;\n",
       "    }\n",
       "</style>\n",
       "<table border=\"1\" class=\"dataframe\">\n",
       "  <thead>\n",
       "    <tr style=\"text-align: right;\">\n",
       "      <th></th>\n",
       "      <th>CRIM</th>\n",
       "      <th>ZN</th>\n",
       "      <th>INDUS</th>\n",
       "      <th>CHAS</th>\n",
       "      <th>NOX</th>\n",
       "      <th>RM</th>\n",
       "      <th>AGE</th>\n",
       "      <th>DIS</th>\n",
       "      <th>RAD</th>\n",
       "      <th>TAX</th>\n",
       "      <th>PTRATIO</th>\n",
       "      <th>B</th>\n",
       "      <th>LSTAT</th>\n",
       "      <th>MEDV</th>\n",
       "    </tr>\n",
       "  </thead>\n",
       "  <tbody>\n",
       "    <tr>\n",
       "      <th>0</th>\n",
       "      <td>0.00632</td>\n",
       "      <td>18.0</td>\n",
       "      <td>2.31</td>\n",
       "      <td>0.0</td>\n",
       "      <td>0.538</td>\n",
       "      <td>6.575</td>\n",
       "      <td>65.2</td>\n",
       "      <td>4.0900</td>\n",
       "      <td>1</td>\n",
       "      <td>296</td>\n",
       "      <td>15.3</td>\n",
       "      <td>396.90</td>\n",
       "      <td>4.98</td>\n",
       "      <td>24.0</td>\n",
       "    </tr>\n",
       "    <tr>\n",
       "      <th>1</th>\n",
       "      <td>0.02731</td>\n",
       "      <td>0.0</td>\n",
       "      <td>7.07</td>\n",
       "      <td>0.0</td>\n",
       "      <td>0.469</td>\n",
       "      <td>6.421</td>\n",
       "      <td>78.9</td>\n",
       "      <td>4.9671</td>\n",
       "      <td>2</td>\n",
       "      <td>242</td>\n",
       "      <td>17.8</td>\n",
       "      <td>396.90</td>\n",
       "      <td>9.14</td>\n",
       "      <td>21.6</td>\n",
       "    </tr>\n",
       "    <tr>\n",
       "      <th>2</th>\n",
       "      <td>0.02729</td>\n",
       "      <td>0.0</td>\n",
       "      <td>7.07</td>\n",
       "      <td>0.0</td>\n",
       "      <td>0.469</td>\n",
       "      <td>7.185</td>\n",
       "      <td>61.1</td>\n",
       "      <td>4.9671</td>\n",
       "      <td>2</td>\n",
       "      <td>242</td>\n",
       "      <td>17.8</td>\n",
       "      <td>392.83</td>\n",
       "      <td>4.03</td>\n",
       "      <td>34.7</td>\n",
       "    </tr>\n",
       "    <tr>\n",
       "      <th>3</th>\n",
       "      <td>0.03237</td>\n",
       "      <td>0.0</td>\n",
       "      <td>2.18</td>\n",
       "      <td>0.0</td>\n",
       "      <td>0.458</td>\n",
       "      <td>6.998</td>\n",
       "      <td>45.8</td>\n",
       "      <td>6.0622</td>\n",
       "      <td>3</td>\n",
       "      <td>222</td>\n",
       "      <td>18.7</td>\n",
       "      <td>394.63</td>\n",
       "      <td>2.94</td>\n",
       "      <td>33.4</td>\n",
       "    </tr>\n",
       "    <tr>\n",
       "      <th>4</th>\n",
       "      <td>0.06905</td>\n",
       "      <td>0.0</td>\n",
       "      <td>2.18</td>\n",
       "      <td>0.0</td>\n",
       "      <td>0.458</td>\n",
       "      <td>7.147</td>\n",
       "      <td>54.2</td>\n",
       "      <td>6.0622</td>\n",
       "      <td>3</td>\n",
       "      <td>222</td>\n",
       "      <td>18.7</td>\n",
       "      <td>396.90</td>\n",
       "      <td>NaN</td>\n",
       "      <td>36.2</td>\n",
       "    </tr>\n",
       "  </tbody>\n",
       "</table>\n",
       "</div>"
      ],
      "text/plain": [
       "      CRIM    ZN  INDUS  CHAS    NOX     RM   AGE     DIS  RAD  TAX  PTRATIO  \\\n",
       "0  0.00632  18.0   2.31   0.0  0.538  6.575  65.2  4.0900    1  296     15.3   \n",
       "1  0.02731   0.0   7.07   0.0  0.469  6.421  78.9  4.9671    2  242     17.8   \n",
       "2  0.02729   0.0   7.07   0.0  0.469  7.185  61.1  4.9671    2  242     17.8   \n",
       "3  0.03237   0.0   2.18   0.0  0.458  6.998  45.8  6.0622    3  222     18.7   \n",
       "4  0.06905   0.0   2.18   0.0  0.458  7.147  54.2  6.0622    3  222     18.7   \n",
       "\n",
       "        B  LSTAT  MEDV  \n",
       "0  396.90   4.98  24.0  \n",
       "1  396.90   9.14  21.6  \n",
       "2  392.83   4.03  34.7  \n",
       "3  394.63   2.94  33.4  \n",
       "4  396.90    NaN  36.2  "
      ]
     },
     "execution_count": 26,
     "metadata": {},
     "output_type": "execute_result"
    }
   ],
   "source": [
    "#importação da base de dados\n",
    "data = pd.read_csv('HousingData.csv')\n",
    "data.head()"
   ]
  },
  {
   "cell_type": "code",
   "execution_count": 27,
   "id": "eb520f66-6aed-4ad0-83e9-d3cf1ed6bf83",
   "metadata": {},
   "outputs": [
    {
     "data": {
      "text/plain": [
       "CRIM       20\n",
       "ZN         20\n",
       "INDUS      20\n",
       "CHAS       20\n",
       "NOX         0\n",
       "RM          0\n",
       "AGE        20\n",
       "DIS         0\n",
       "RAD         0\n",
       "TAX         0\n",
       "PTRATIO     0\n",
       "B           0\n",
       "LSTAT      20\n",
       "MEDV        0\n",
       "dtype: int64"
      ]
     },
     "execution_count": 27,
     "metadata": {},
     "output_type": "execute_result"
    }
   ],
   "source": [
    "#verificando se existem dados nulos\n",
    "data.isnull().sum()"
   ]
  },
  {
   "cell_type": "code",
   "execution_count": 20,
   "id": "dfacb3ed-981c-4ceb-9dfd-83bdaf86519a",
   "metadata": {},
   "outputs": [
    {
     "data": {
      "text/plain": [
       "count    486.000000\n",
       "mean       3.611874\n",
       "std        8.720192\n",
       "min        0.006320\n",
       "25%        0.081900\n",
       "50%        0.253715\n",
       "75%        3.560263\n",
       "max       88.976200\n",
       "Name: CRIM, dtype: float64"
      ]
     },
     "execution_count": 20,
     "metadata": {},
     "output_type": "execute_result"
    }
   ],
   "source": [
    "data[\"CRIM\"].describe()"
   ]
  },
  {
   "cell_type": "code",
   "execution_count": 28,
   "id": "a392a302-d856-40f0-845d-d16357312779",
   "metadata": {},
   "outputs": [
    {
     "data": {
      "text/plain": [
       "0.253715"
      ]
     },
     "execution_count": 28,
     "metadata": {},
     "output_type": "execute_result"
    }
   ],
   "source": [
    "#tratando valores nulos com o valor das medianas\n",
    "medianCRIM = data[\"CRIM\"].median(skipna = True)\n",
    "medianCRIM"
   ]
  },
  {
   "cell_type": "code",
   "execution_count": 31,
   "id": "e92ea2da-ba1e-4ffc-9282-50692f79185e",
   "metadata": {},
   "outputs": [],
   "source": [
    "data.fillna({\"CRIM\":medianCRIM},inplace = True)"
   ]
  },
  {
   "cell_type": "code",
   "execution_count": 32,
   "id": "4c4948cd-17fe-4bb8-b7bb-7d27e1bfddc9",
   "metadata": {},
   "outputs": [
    {
     "data": {
      "text/plain": [
       "0.0"
      ]
     },
     "execution_count": 32,
     "metadata": {},
     "output_type": "execute_result"
    }
   ],
   "source": [
    "medianZN = data[\"ZN\"].median(skipna = True)\n",
    "medianZN"
   ]
  },
  {
   "cell_type": "code",
   "execution_count": 34,
   "id": "70956472-806f-4ec2-9413-e20bf214345c",
   "metadata": {},
   "outputs": [],
   "source": [
    "data.fillna({\"ZN\":medianZN},inplace = True)"
   ]
  },
  {
   "cell_type": "code",
   "execution_count": 35,
   "id": "c27ee342-726a-4641-ab72-b0feb5859f7f",
   "metadata": {},
   "outputs": [
    {
     "data": {
      "text/plain": [
       "9.69"
      ]
     },
     "execution_count": 35,
     "metadata": {},
     "output_type": "execute_result"
    }
   ],
   "source": [
    "medianINDUS = data[\"INDUS\"].median(skipna = True)\n",
    "medianINDUS"
   ]
  },
  {
   "cell_type": "code",
   "execution_count": 36,
   "id": "470b386f-af9c-4190-9b00-af9721f91afc",
   "metadata": {},
   "outputs": [],
   "source": [
    "data.fillna({\"INDUS\":medianINDUS},inplace = True)"
   ]
  },
  {
   "cell_type": "code",
   "execution_count": 37,
   "id": "781ab56b-b3f5-4475-8999-b27a4bd4b68e",
   "metadata": {},
   "outputs": [
    {
     "data": {
      "text/plain": [
       "0.0"
      ]
     },
     "execution_count": 37,
     "metadata": {},
     "output_type": "execute_result"
    }
   ],
   "source": [
    "medianCHAS = data[\"CHAS\"].median(skipna = True)\n",
    "medianCHAS"
   ]
  },
  {
   "cell_type": "code",
   "execution_count": 38,
   "id": "80b5d456-41f4-4919-9397-6dccb15d9646",
   "metadata": {},
   "outputs": [],
   "source": [
    "data.fillna({\"CHAS\":medianCHAS},inplace = True)"
   ]
  },
  {
   "cell_type": "code",
   "execution_count": 39,
   "id": "76efa702-7a41-4851-ae72-adf3ef094246",
   "metadata": {},
   "outputs": [
    {
     "data": {
      "text/plain": [
       "76.80000000000001"
      ]
     },
     "execution_count": 39,
     "metadata": {},
     "output_type": "execute_result"
    }
   ],
   "source": [
    "medianAGE = data[\"AGE\"].median(skipna = True)\n",
    "medianAGE"
   ]
  },
  {
   "cell_type": "code",
   "execution_count": 41,
   "id": "46799f48-beee-4167-84bb-33d81f2264fc",
   "metadata": {},
   "outputs": [],
   "source": [
    "data.fillna({\"AGE\":medianAGE},inplace = True)"
   ]
  },
  {
   "cell_type": "code",
   "execution_count": 42,
   "id": "a88a85e6-df8c-4c15-9c76-b39672babeca",
   "metadata": {},
   "outputs": [
    {
     "data": {
      "text/plain": [
       "11.43"
      ]
     },
     "execution_count": 42,
     "metadata": {},
     "output_type": "execute_result"
    }
   ],
   "source": [
    "medianLSTAT = data[\"LSTAT\"].median(skipna = True)\n",
    "medianLSTAT"
   ]
  },
  {
   "cell_type": "code",
   "execution_count": 44,
   "id": "494a684a-abeb-40ba-9cb8-1b442bddf00a",
   "metadata": {},
   "outputs": [],
   "source": [
    "data.fillna({\"LSTAT\":medianLSTAT},inplace = True)"
   ]
  },
  {
   "cell_type": "code",
   "execution_count": 45,
   "id": "cea5ff01-92a0-4052-a7c1-625bbb8024fe",
   "metadata": {},
   "outputs": [
    {
     "data": {
      "text/plain": [
       "CRIM       0\n",
       "ZN         0\n",
       "INDUS      0\n",
       "CHAS       0\n",
       "NOX        0\n",
       "RM         0\n",
       "AGE        0\n",
       "DIS        0\n",
       "RAD        0\n",
       "TAX        0\n",
       "PTRATIO    0\n",
       "B          0\n",
       "LSTAT      0\n",
       "MEDV       0\n",
       "dtype: int64"
      ]
     },
     "execution_count": 45,
     "metadata": {},
     "output_type": "execute_result"
    }
   ],
   "source": [
    "data.isnull().sum()"
   ]
  },
  {
   "cell_type": "code",
   "execution_count": 61,
   "id": "2e32bda5-3aa9-4bab-92bb-c5bbc9eecef2",
   "metadata": {},
   "outputs": [
    {
     "name": "stdout",
     "output_type": "stream",
     "text": [
      "count    506.000000\n",
      "mean       3.479140\n",
      "std        8.570832\n",
      "min        0.006320\n",
      "25%        0.083235\n",
      "50%        0.253715\n",
      "75%        2.808720\n",
      "max       88.976200\n",
      "Name: CRIM, dtype: float64\n",
      "------------------------------\n",
      "count    506.000000\n",
      "mean      10.768775\n",
      "std       23.025124\n",
      "min        0.000000\n",
      "25%        0.000000\n",
      "50%        0.000000\n",
      "75%        0.000000\n",
      "max      100.000000\n",
      "Name: ZN, dtype: float64\n",
      "------------------------------\n",
      "count    506.000000\n",
      "mean      11.028893\n",
      "std        6.704679\n",
      "min        0.460000\n",
      "25%        5.190000\n",
      "50%        9.690000\n",
      "75%       18.100000\n",
      "max       27.740000\n",
      "Name: INDUS, dtype: float64\n",
      "------------------------------\n",
      "count    506.000000\n",
      "mean       0.067194\n",
      "std        0.250605\n",
      "min        0.000000\n",
      "25%        0.000000\n",
      "50%        0.000000\n",
      "75%        0.000000\n",
      "max        1.000000\n",
      "Name: CHAS, dtype: float64\n",
      "------------------------------\n",
      "count    506.000000\n",
      "mean       0.554695\n",
      "std        0.115878\n",
      "min        0.385000\n",
      "25%        0.449000\n",
      "50%        0.538000\n",
      "75%        0.624000\n",
      "max        0.871000\n",
      "Name: NOX, dtype: float64\n",
      "------------------------------\n",
      "count    506.000000\n",
      "mean       6.284634\n",
      "std        0.702617\n",
      "min        3.561000\n",
      "25%        5.885500\n",
      "50%        6.208500\n",
      "75%        6.623500\n",
      "max        8.780000\n",
      "Name: RM, dtype: float64\n",
      "------------------------------\n",
      "count    506.000000\n",
      "mean      68.845850\n",
      "std       27.486962\n",
      "min        2.900000\n",
      "25%       45.925000\n",
      "50%       76.800000\n",
      "75%       93.575000\n",
      "max      100.000000\n",
      "Name: AGE, dtype: float64\n",
      "------------------------------\n",
      "count    506.000000\n",
      "mean       3.795043\n",
      "std        2.105710\n",
      "min        1.129600\n",
      "25%        2.100175\n",
      "50%        3.207450\n",
      "75%        5.188425\n",
      "max       12.126500\n",
      "Name: DIS, dtype: float64\n",
      "------------------------------\n",
      "count    506.000000\n",
      "mean       9.549407\n",
      "std        8.707259\n",
      "min        1.000000\n",
      "25%        4.000000\n",
      "50%        5.000000\n",
      "75%       24.000000\n",
      "max       24.000000\n",
      "Name: RAD, dtype: float64\n",
      "------------------------------\n",
      "count    506.000000\n",
      "mean     408.237154\n",
      "std      168.537116\n",
      "min      187.000000\n",
      "25%      279.000000\n",
      "50%      330.000000\n",
      "75%      666.000000\n",
      "max      711.000000\n",
      "Name: TAX, dtype: float64\n",
      "------------------------------\n",
      "count    506.000000\n",
      "mean      18.455534\n",
      "std        2.164946\n",
      "min       12.600000\n",
      "25%       17.400000\n",
      "50%       19.050000\n",
      "75%       20.200000\n",
      "max       22.000000\n",
      "Name: PTRATIO, dtype: float64\n",
      "------------------------------\n",
      "count    506.000000\n",
      "mean     356.674032\n",
      "std       91.294864\n",
      "min        0.320000\n",
      "25%      375.377500\n",
      "50%      391.440000\n",
      "75%      396.225000\n",
      "max      396.900000\n",
      "Name: B, dtype: float64\n",
      "------------------------------\n",
      "count    506.000000\n",
      "mean      12.664625\n",
      "std        7.017219\n",
      "min        1.730000\n",
      "25%        7.230000\n",
      "50%       11.430000\n",
      "75%       16.570000\n",
      "max       37.970000\n",
      "Name: LSTAT, dtype: float64\n",
      "------------------------------\n",
      "count    506.000000\n",
      "mean      22.532806\n",
      "std        9.197104\n",
      "min        5.000000\n",
      "25%       17.025000\n",
      "50%       21.200000\n",
      "75%       25.000000\n",
      "max       50.000000\n",
      "Name: MEDV, dtype: float64\n",
      "------------------------------\n"
     ]
    }
   ],
   "source": [
    "#verificação da descrição das colunas para o tratamento de outliers\n",
    "for col in data.columns:\n",
    "    print(data[col].describe())\n",
    "    print(\"------------------------------\")"
   ]
  },
  {
   "cell_type": "code",
   "execution_count": 63,
   "id": "1f6b2a89-c61c-4630-a9ca-53dc3cfd586f",
   "metadata": {},
   "outputs": [],
   "source": [
    "#tratamento de outliers\n",
    "#a partir da analise feita sobre as colunas, no meu entendimento a única passível de conter outliers seria CRIM(referente a taxa de criminalidade per capita)\n",
    "#definicão do Q1,Q3 e IQR\n",
    "Q1 = data[\"CRIM\"].quantile(0.25)\n",
    "Q3 = data[\"CRIM\"].quantile(0.75)\n",
    "IQR = Q3 - Q1"
   ]
  },
  {
   "cell_type": "code",
   "execution_count": 67,
   "id": "db834f22-458a-452b-9d21-3d9a494c4895",
   "metadata": {},
   "outputs": [],
   "source": [
    "#tratamento dos outliers com base no quartiles e intervalo quartil\n",
    "data.loc[(data[\"CRIM\"] < (Q1 - 1.5 * IQR)) | (data[\"CRIM\"] > (Q3 + 1.5 * IQR)), \"CRIM\"] = medianCRIM"
   ]
  },
  {
   "cell_type": "code",
   "execution_count": 68,
   "id": "61fe5e9e-f7e5-4616-a346-0d9882742bbe",
   "metadata": {},
   "outputs": [
    {
     "data": {
      "text/plain": [
       "count    506.000000\n",
       "mean       0.746769\n",
       "std        1.410680\n",
       "min        0.006320\n",
       "25%        0.083235\n",
       "50%        0.253715\n",
       "75%        0.411213\n",
       "max        6.801170\n",
       "Name: CRIM, dtype: float64"
      ]
     },
     "execution_count": 68,
     "metadata": {},
     "output_type": "execute_result"
    }
   ],
   "source": [
    "data[\"CRIM\"].describe()"
   ]
  },
  {
   "cell_type": "code",
   "execution_count": 72,
   "id": "73e6d6dd-087f-46b2-a148-c170714ffb5a",
   "metadata": {},
   "outputs": [],
   "source": [
    "#separação dos dados em features e target\n",
    "features = data.iloc[:,:-1].values\n",
    "target = data.iloc[:,-1].values"
   ]
  },
  {
   "cell_type": "code",
   "execution_count": 74,
   "id": "e5163fce-9c5a-4301-b585-131f117b13ec",
   "metadata": {},
   "outputs": [],
   "source": [
    "#normalização dos dados\n",
    "scaler = StandardScaler()\n",
    "features = scaler.fit_transform(features)"
   ]
  },
  {
   "cell_type": "code",
   "execution_count": 76,
   "id": "5fb33c94-741b-4c25-8f18-aa74ee699166",
   "metadata": {},
   "outputs": [
    {
     "data": {
      "text/plain": [
       "CRIM         0.00632\n",
       "ZN          18.00000\n",
       "INDUS        2.31000\n",
       "CHAS         0.00000\n",
       "NOX          0.53800\n",
       "RM           6.57500\n",
       "AGE         65.20000\n",
       "DIS          4.09000\n",
       "RAD          1.00000\n",
       "TAX        296.00000\n",
       "PTRATIO     15.30000\n",
       "B          396.90000\n",
       "LSTAT        4.98000\n",
       "Name: 0, dtype: float64"
      ]
     },
     "execution_count": 76,
     "metadata": {},
     "output_type": "execute_result"
    }
   ],
   "source": [
    "#antes da normalização\n",
    "data.iloc[0,:-1]"
   ]
  },
  {
   "cell_type": "code",
   "execution_count": 75,
   "id": "7d03fbd9-7aad-477c-be10-2477584a6e13",
   "metadata": {},
   "outputs": [
    {
     "data": {
      "text/plain": [
       "array([-0.52540697,  0.31436884, -1.30170603, -0.26839132, -0.14421743,\n",
       "        0.41367189, -0.1327705 ,  0.1402136 , -0.98284286, -0.66660821,\n",
       "       -1.45900038,  0.44105193, -1.09619345])"
      ]
     },
     "execution_count": 75,
     "metadata": {},
     "output_type": "execute_result"
    }
   ],
   "source": [
    "#depois da normalização\n",
    "features[0]"
   ]
  },
  {
   "cell_type": "code",
   "execution_count": 94,
   "id": "d652024c-b28a-4e7c-b205-47e6dcb4ff09",
   "metadata": {},
   "outputs": [
    {
     "data": {
      "text/html": [
       "<div>\n",
       "<style scoped>\n",
       "    .dataframe tbody tr th:only-of-type {\n",
       "        vertical-align: middle;\n",
       "    }\n",
       "\n",
       "    .dataframe tbody tr th {\n",
       "        vertical-align: top;\n",
       "    }\n",
       "\n",
       "    .dataframe thead th {\n",
       "        text-align: right;\n",
       "    }\n",
       "</style>\n",
       "<table border=\"1\" class=\"dataframe\">\n",
       "  <thead>\n",
       "    <tr style=\"text-align: right;\">\n",
       "      <th></th>\n",
       "      <th>CRIM</th>\n",
       "      <th>ZN</th>\n",
       "      <th>INDUS</th>\n",
       "      <th>CHAS</th>\n",
       "      <th>NOX</th>\n",
       "      <th>RM</th>\n",
       "      <th>AGE</th>\n",
       "      <th>DIS</th>\n",
       "      <th>RAD</th>\n",
       "      <th>TAX</th>\n",
       "      <th>PTRATIO</th>\n",
       "      <th>B</th>\n",
       "      <th>LSTAT</th>\n",
       "      <th>MEDV</th>\n",
       "    </tr>\n",
       "  </thead>\n",
       "  <tbody>\n",
       "    <tr>\n",
       "      <th>CRIM</th>\n",
       "      <td>1.000000</td>\n",
       "      <td>-0.218494</td>\n",
       "      <td>0.401993</td>\n",
       "      <td>0.088870</td>\n",
       "      <td>0.453641</td>\n",
       "      <td>-0.071589</td>\n",
       "      <td>0.281339</td>\n",
       "      <td>-0.293570</td>\n",
       "      <td>0.431960</td>\n",
       "      <td>0.437014</td>\n",
       "      <td>0.125001</td>\n",
       "      <td>-0.144918</td>\n",
       "      <td>0.125418</td>\n",
       "      <td>-0.082141</td>\n",
       "    </tr>\n",
       "    <tr>\n",
       "      <th>ZN</th>\n",
       "      <td>-0.218494</td>\n",
       "      <td>1.000000</td>\n",
       "      <td>-0.507304</td>\n",
       "      <td>-0.032992</td>\n",
       "      <td>-0.498619</td>\n",
       "      <td>0.312295</td>\n",
       "      <td>-0.535341</td>\n",
       "      <td>0.632428</td>\n",
       "      <td>-0.300061</td>\n",
       "      <td>-0.304385</td>\n",
       "      <td>-0.394622</td>\n",
       "      <td>0.170125</td>\n",
       "      <td>-0.398838</td>\n",
       "      <td>0.362292</td>\n",
       "    </tr>\n",
       "    <tr>\n",
       "      <th>INDUS</th>\n",
       "      <td>0.401993</td>\n",
       "      <td>-0.507304</td>\n",
       "      <td>1.000000</td>\n",
       "      <td>0.054693</td>\n",
       "      <td>0.738387</td>\n",
       "      <td>-0.377978</td>\n",
       "      <td>0.614248</td>\n",
       "      <td>-0.698621</td>\n",
       "      <td>0.592735</td>\n",
       "      <td>0.716267</td>\n",
       "      <td>0.385366</td>\n",
       "      <td>-0.354840</td>\n",
       "      <td>0.564508</td>\n",
       "      <td>-0.476394</td>\n",
       "    </tr>\n",
       "    <tr>\n",
       "      <th>CHAS</th>\n",
       "      <td>0.088870</td>\n",
       "      <td>-0.032992</td>\n",
       "      <td>0.054693</td>\n",
       "      <td>1.000000</td>\n",
       "      <td>0.070867</td>\n",
       "      <td>0.106797</td>\n",
       "      <td>0.074984</td>\n",
       "      <td>-0.092318</td>\n",
       "      <td>-0.003339</td>\n",
       "      <td>-0.035822</td>\n",
       "      <td>-0.109451</td>\n",
       "      <td>0.050608</td>\n",
       "      <td>-0.047279</td>\n",
       "      <td>0.183844</td>\n",
       "    </tr>\n",
       "    <tr>\n",
       "      <th>NOX</th>\n",
       "      <td>0.453641</td>\n",
       "      <td>-0.498619</td>\n",
       "      <td>0.738387</td>\n",
       "      <td>0.070867</td>\n",
       "      <td>1.000000</td>\n",
       "      <td>-0.302188</td>\n",
       "      <td>0.711864</td>\n",
       "      <td>-0.769230</td>\n",
       "      <td>0.611441</td>\n",
       "      <td>0.668023</td>\n",
       "      <td>0.188933</td>\n",
       "      <td>-0.380051</td>\n",
       "      <td>0.573040</td>\n",
       "      <td>-0.427321</td>\n",
       "    </tr>\n",
       "    <tr>\n",
       "      <th>RM</th>\n",
       "      <td>-0.071589</td>\n",
       "      <td>0.312295</td>\n",
       "      <td>-0.377978</td>\n",
       "      <td>0.106797</td>\n",
       "      <td>-0.302188</td>\n",
       "      <td>1.000000</td>\n",
       "      <td>-0.239518</td>\n",
       "      <td>0.205246</td>\n",
       "      <td>-0.209847</td>\n",
       "      <td>-0.292048</td>\n",
       "      <td>-0.355501</td>\n",
       "      <td>0.128069</td>\n",
       "      <td>-0.604323</td>\n",
       "      <td>0.695360</td>\n",
       "    </tr>\n",
       "    <tr>\n",
       "      <th>AGE</th>\n",
       "      <td>0.281339</td>\n",
       "      <td>-0.535341</td>\n",
       "      <td>0.614248</td>\n",
       "      <td>0.074984</td>\n",
       "      <td>0.711864</td>\n",
       "      <td>-0.239518</td>\n",
       "      <td>1.000000</td>\n",
       "      <td>-0.724354</td>\n",
       "      <td>0.447088</td>\n",
       "      <td>0.498408</td>\n",
       "      <td>0.261826</td>\n",
       "      <td>-0.268029</td>\n",
       "      <td>0.575022</td>\n",
       "      <td>-0.377572</td>\n",
       "    </tr>\n",
       "    <tr>\n",
       "      <th>DIS</th>\n",
       "      <td>-0.293570</td>\n",
       "      <td>0.632428</td>\n",
       "      <td>-0.698621</td>\n",
       "      <td>-0.092318</td>\n",
       "      <td>-0.769230</td>\n",
       "      <td>0.205246</td>\n",
       "      <td>-0.724354</td>\n",
       "      <td>1.000000</td>\n",
       "      <td>-0.494588</td>\n",
       "      <td>-0.534432</td>\n",
       "      <td>-0.232471</td>\n",
       "      <td>0.291512</td>\n",
       "      <td>-0.483244</td>\n",
       "      <td>0.249929</td>\n",
       "    </tr>\n",
       "    <tr>\n",
       "      <th>RAD</th>\n",
       "      <td>0.431960</td>\n",
       "      <td>-0.300061</td>\n",
       "      <td>0.592735</td>\n",
       "      <td>-0.003339</td>\n",
       "      <td>0.611441</td>\n",
       "      <td>-0.209847</td>\n",
       "      <td>0.447088</td>\n",
       "      <td>-0.494588</td>\n",
       "      <td>1.000000</td>\n",
       "      <td>0.910228</td>\n",
       "      <td>0.464741</td>\n",
       "      <td>-0.444413</td>\n",
       "      <td>0.467765</td>\n",
       "      <td>-0.381626</td>\n",
       "    </tr>\n",
       "    <tr>\n",
       "      <th>TAX</th>\n",
       "      <td>0.437014</td>\n",
       "      <td>-0.304385</td>\n",
       "      <td>0.716267</td>\n",
       "      <td>-0.035822</td>\n",
       "      <td>0.668023</td>\n",
       "      <td>-0.292048</td>\n",
       "      <td>0.498408</td>\n",
       "      <td>-0.534432</td>\n",
       "      <td>0.910228</td>\n",
       "      <td>1.000000</td>\n",
       "      <td>0.460853</td>\n",
       "      <td>-0.441808</td>\n",
       "      <td>0.524156</td>\n",
       "      <td>-0.468536</td>\n",
       "    </tr>\n",
       "    <tr>\n",
       "      <th>PTRATIO</th>\n",
       "      <td>0.125001</td>\n",
       "      <td>-0.394622</td>\n",
       "      <td>0.385366</td>\n",
       "      <td>-0.109451</td>\n",
       "      <td>0.188933</td>\n",
       "      <td>-0.355501</td>\n",
       "      <td>0.261826</td>\n",
       "      <td>-0.232471</td>\n",
       "      <td>0.464741</td>\n",
       "      <td>0.460853</td>\n",
       "      <td>1.000000</td>\n",
       "      <td>-0.177383</td>\n",
       "      <td>0.370727</td>\n",
       "      <td>-0.507787</td>\n",
       "    </tr>\n",
       "    <tr>\n",
       "      <th>B</th>\n",
       "      <td>-0.144918</td>\n",
       "      <td>0.170125</td>\n",
       "      <td>-0.354840</td>\n",
       "      <td>0.050608</td>\n",
       "      <td>-0.380051</td>\n",
       "      <td>0.128069</td>\n",
       "      <td>-0.268029</td>\n",
       "      <td>0.291512</td>\n",
       "      <td>-0.444413</td>\n",
       "      <td>-0.441808</td>\n",
       "      <td>-0.177383</td>\n",
       "      <td>1.000000</td>\n",
       "      <td>-0.370993</td>\n",
       "      <td>0.333461</td>\n",
       "    </tr>\n",
       "    <tr>\n",
       "      <th>LSTAT</th>\n",
       "      <td>0.125418</td>\n",
       "      <td>-0.398838</td>\n",
       "      <td>0.564508</td>\n",
       "      <td>-0.047279</td>\n",
       "      <td>0.573040</td>\n",
       "      <td>-0.604323</td>\n",
       "      <td>0.575022</td>\n",
       "      <td>-0.483244</td>\n",
       "      <td>0.467765</td>\n",
       "      <td>0.524156</td>\n",
       "      <td>0.370727</td>\n",
       "      <td>-0.370993</td>\n",
       "      <td>1.000000</td>\n",
       "      <td>-0.723093</td>\n",
       "    </tr>\n",
       "    <tr>\n",
       "      <th>MEDV</th>\n",
       "      <td>-0.082141</td>\n",
       "      <td>0.362292</td>\n",
       "      <td>-0.476394</td>\n",
       "      <td>0.183844</td>\n",
       "      <td>-0.427321</td>\n",
       "      <td>0.695360</td>\n",
       "      <td>-0.377572</td>\n",
       "      <td>0.249929</td>\n",
       "      <td>-0.381626</td>\n",
       "      <td>-0.468536</td>\n",
       "      <td>-0.507787</td>\n",
       "      <td>0.333461</td>\n",
       "      <td>-0.723093</td>\n",
       "      <td>1.000000</td>\n",
       "    </tr>\n",
       "  </tbody>\n",
       "</table>\n",
       "</div>"
      ],
      "text/plain": [
       "             CRIM        ZN     INDUS      CHAS       NOX        RM       AGE  \\\n",
       "CRIM     1.000000 -0.218494  0.401993  0.088870  0.453641 -0.071589  0.281339   \n",
       "ZN      -0.218494  1.000000 -0.507304 -0.032992 -0.498619  0.312295 -0.535341   \n",
       "INDUS    0.401993 -0.507304  1.000000  0.054693  0.738387 -0.377978  0.614248   \n",
       "CHAS     0.088870 -0.032992  0.054693  1.000000  0.070867  0.106797  0.074984   \n",
       "NOX      0.453641 -0.498619  0.738387  0.070867  1.000000 -0.302188  0.711864   \n",
       "RM      -0.071589  0.312295 -0.377978  0.106797 -0.302188  1.000000 -0.239518   \n",
       "AGE      0.281339 -0.535341  0.614248  0.074984  0.711864 -0.239518  1.000000   \n",
       "DIS     -0.293570  0.632428 -0.698621 -0.092318 -0.769230  0.205246 -0.724354   \n",
       "RAD      0.431960 -0.300061  0.592735 -0.003339  0.611441 -0.209847  0.447088   \n",
       "TAX      0.437014 -0.304385  0.716267 -0.035822  0.668023 -0.292048  0.498408   \n",
       "PTRATIO  0.125001 -0.394622  0.385366 -0.109451  0.188933 -0.355501  0.261826   \n",
       "B       -0.144918  0.170125 -0.354840  0.050608 -0.380051  0.128069 -0.268029   \n",
       "LSTAT    0.125418 -0.398838  0.564508 -0.047279  0.573040 -0.604323  0.575022   \n",
       "MEDV    -0.082141  0.362292 -0.476394  0.183844 -0.427321  0.695360 -0.377572   \n",
       "\n",
       "              DIS       RAD       TAX   PTRATIO         B     LSTAT      MEDV  \n",
       "CRIM    -0.293570  0.431960  0.437014  0.125001 -0.144918  0.125418 -0.082141  \n",
       "ZN       0.632428 -0.300061 -0.304385 -0.394622  0.170125 -0.398838  0.362292  \n",
       "INDUS   -0.698621  0.592735  0.716267  0.385366 -0.354840  0.564508 -0.476394  \n",
       "CHAS    -0.092318 -0.003339 -0.035822 -0.109451  0.050608 -0.047279  0.183844  \n",
       "NOX     -0.769230  0.611441  0.668023  0.188933 -0.380051  0.573040 -0.427321  \n",
       "RM       0.205246 -0.209847 -0.292048 -0.355501  0.128069 -0.604323  0.695360  \n",
       "AGE     -0.724354  0.447088  0.498408  0.261826 -0.268029  0.575022 -0.377572  \n",
       "DIS      1.000000 -0.494588 -0.534432 -0.232471  0.291512 -0.483244  0.249929  \n",
       "RAD     -0.494588  1.000000  0.910228  0.464741 -0.444413  0.467765 -0.381626  \n",
       "TAX     -0.534432  0.910228  1.000000  0.460853 -0.441808  0.524156 -0.468536  \n",
       "PTRATIO -0.232471  0.464741  0.460853  1.000000 -0.177383  0.370727 -0.507787  \n",
       "B        0.291512 -0.444413 -0.441808 -0.177383  1.000000 -0.370993  0.333461  \n",
       "LSTAT   -0.483244  0.467765  0.524156  0.370727 -0.370993  1.000000 -0.723093  \n",
       "MEDV     0.249929 -0.381626 -0.468536 -0.507787  0.333461 -0.723093  1.000000  "
      ]
     },
     "execution_count": 94,
     "metadata": {},
     "output_type": "execute_result"
    }
   ],
   "source": [
    "#matriz de correlação\n",
    "data.corr()"
   ]
  },
  {
   "cell_type": "code",
   "execution_count": 109,
   "id": "96bf7049-a593-46c6-8566-16a558fa0453",
   "metadata": {},
   "outputs": [
    {
     "name": "stdout",
     "output_type": "stream",
     "text": [
      "a correlação da coluna CRIM com a coluna target MEDV é de -0.0821\n",
      "a correlação da coluna ZN com a coluna target MEDV é de 0.3623\n",
      "a correlação da coluna INDUS com a coluna target MEDV é de -0.4764\n",
      "a correlação da coluna CHAS com a coluna target MEDV é de 0.1838\n",
      "a correlação da coluna NOX com a coluna target MEDV é de -0.4273\n",
      "a correlação da coluna RM com a coluna target MEDV é de 0.6954\n",
      "a correlação da coluna AGE com a coluna target MEDV é de -0.3776\n",
      "a correlação da coluna DIS com a coluna target MEDV é de 0.2499\n",
      "a correlação da coluna RAD com a coluna target MEDV é de -0.3816\n",
      "a correlação da coluna TAX com a coluna target MEDV é de -0.4685\n",
      "a correlação da coluna PTRATIO com a coluna target MEDV é de -0.5078\n",
      "a correlação da coluna B com a coluna target MEDV é de 0.3335\n",
      "a correlação da coluna LSTAT com a coluna target MEDV é de -0.7231\n"
     ]
    }
   ],
   "source": [
    "#estrutura de repetição para a vizualização da correlação entre as colunas de features e targets\n",
    "corr_matrix = data.corr()\n",
    "\n",
    "for i in range(len(data.columns)-1):\n",
    "    corr_value = corr_matrix.iloc[i, -1]\n",
    "    print(f\"a correlação da coluna {data.columns[i]} com a coluna target {data.columns[-1]} é de {corr_value:.4f}\")"
   ]
  },
  {
   "cell_type": "code",
   "execution_count": 111,
   "id": "168f8a61-392a-4356-9949-2caf6f76552e",
   "metadata": {},
   "outputs": [
    {
     "name": "stdout",
     "output_type": "stream",
     "text": [
      "A correlação entre RAD na posicao 8 e TAX na posicao 9 é de 0.9102\n"
     ]
    }
   ],
   "source": [
    "#estrutura de repetição para verificação de multicolinearidade\n",
    "\n",
    "for i in range(len(corr_matrix.columns)):\n",
    "    for j in range(i+1, len(corr_matrix.columns)):  # Para evitar comparar a mesma combinação duas vezes\n",
    "        corr_value = corr_matrix.iloc[i, j]\n",
    "        if abs(corr_value) > 0.8:  # Verifica a correlação absoluta\n",
    "            print(f\"A correlação entre {corr_matrix.columns[i]} na posicao {i} e {corr_matrix.columns[j]} na posicao {j} é de {corr_value:.4f}\")"
   ]
  },
  {
   "cell_type": "code",
   "execution_count": 103,
   "id": "8318ea5c-fc31-4c5a-913e-91a8cef43c5c",
   "metadata": {},
   "outputs": [],
   "source": [
    "#exclusao da coluna 8(RAD) por possuir uma correlaçao muito alta com TAX e por ter uma menor correlação com o TARGET(MEDV)\n",
    "NewFeatures = np.delete(features, 8, axis = 1)"
   ]
  },
  {
   "cell_type": "code",
   "execution_count": 104,
   "id": "5274871a-9c0f-4ad2-aac4-5e5b372a855a",
   "metadata": {},
   "outputs": [
    {
     "data": {
      "text/plain": [
       "array([-0.52540697,  0.31436884, -1.30170603, -0.26839132, -0.14421743,\n",
       "        0.41367189, -0.1327705 ,  0.1402136 , -0.98284286, -0.66660821,\n",
       "       -1.45900038,  0.44105193, -1.09619345])"
      ]
     },
     "execution_count": 104,
     "metadata": {},
     "output_type": "execute_result"
    }
   ],
   "source": [
    "features[0]"
   ]
  },
  {
   "cell_type": "code",
   "execution_count": 106,
   "id": "17553c88-0c57-44b3-a070-fbdcd92924e8",
   "metadata": {},
   "outputs": [
    {
     "data": {
      "text/plain": [
       "array([-0.52540697,  0.31436884, -1.30170603, -0.26839132, -0.14421743,\n",
       "        0.41367189, -0.1327705 ,  0.1402136 , -0.66660821, -1.45900038,\n",
       "        0.44105193, -1.09619345])"
      ]
     },
     "execution_count": 106,
     "metadata": {},
     "output_type": "execute_result"
    }
   ],
   "source": [
    "NewFeatures[0]"
   ]
  },
  {
   "cell_type": "code",
   "execution_count": 156,
   "id": "992c59c4-f76c-43ad-8061-34595a493196",
   "metadata": {},
   "outputs": [],
   "source": [
    "#separação dos dados em treino e teste\n",
    "x_train,x_test,y_train,y_test = train_test_split(NewFeatures, target,test_size = 0.2)"
   ]
  },
  {
   "cell_type": "code",
   "execution_count": 157,
   "id": "5d251063-93fd-4042-b665-5afa531b02d9",
   "metadata": {},
   "outputs": [
    {
     "data": {
      "text/html": [
       "<style>#sk-container-id-7 {\n",
       "  /* Definition of color scheme common for light and dark mode */\n",
       "  --sklearn-color-text: black;\n",
       "  --sklearn-color-line: gray;\n",
       "  /* Definition of color scheme for unfitted estimators */\n",
       "  --sklearn-color-unfitted-level-0: #fff5e6;\n",
       "  --sklearn-color-unfitted-level-1: #f6e4d2;\n",
       "  --sklearn-color-unfitted-level-2: #ffe0b3;\n",
       "  --sklearn-color-unfitted-level-3: chocolate;\n",
       "  /* Definition of color scheme for fitted estimators */\n",
       "  --sklearn-color-fitted-level-0: #f0f8ff;\n",
       "  --sklearn-color-fitted-level-1: #d4ebff;\n",
       "  --sklearn-color-fitted-level-2: #b3dbfd;\n",
       "  --sklearn-color-fitted-level-3: cornflowerblue;\n",
       "\n",
       "  /* Specific color for light theme */\n",
       "  --sklearn-color-text-on-default-background: var(--sg-text-color, var(--theme-code-foreground, var(--jp-content-font-color1, black)));\n",
       "  --sklearn-color-background: var(--sg-background-color, var(--theme-background, var(--jp-layout-color0, white)));\n",
       "  --sklearn-color-border-box: var(--sg-text-color, var(--theme-code-foreground, var(--jp-content-font-color1, black)));\n",
       "  --sklearn-color-icon: #696969;\n",
       "\n",
       "  @media (prefers-color-scheme: dark) {\n",
       "    /* Redefinition of color scheme for dark theme */\n",
       "    --sklearn-color-text-on-default-background: var(--sg-text-color, var(--theme-code-foreground, var(--jp-content-font-color1, white)));\n",
       "    --sklearn-color-background: var(--sg-background-color, var(--theme-background, var(--jp-layout-color0, #111)));\n",
       "    --sklearn-color-border-box: var(--sg-text-color, var(--theme-code-foreground, var(--jp-content-font-color1, white)));\n",
       "    --sklearn-color-icon: #878787;\n",
       "  }\n",
       "}\n",
       "\n",
       "#sk-container-id-7 {\n",
       "  color: var(--sklearn-color-text);\n",
       "}\n",
       "\n",
       "#sk-container-id-7 pre {\n",
       "  padding: 0;\n",
       "}\n",
       "\n",
       "#sk-container-id-7 input.sk-hidden--visually {\n",
       "  border: 0;\n",
       "  clip: rect(1px 1px 1px 1px);\n",
       "  clip: rect(1px, 1px, 1px, 1px);\n",
       "  height: 1px;\n",
       "  margin: -1px;\n",
       "  overflow: hidden;\n",
       "  padding: 0;\n",
       "  position: absolute;\n",
       "  width: 1px;\n",
       "}\n",
       "\n",
       "#sk-container-id-7 div.sk-dashed-wrapped {\n",
       "  border: 1px dashed var(--sklearn-color-line);\n",
       "  margin: 0 0.4em 0.5em 0.4em;\n",
       "  box-sizing: border-box;\n",
       "  padding-bottom: 0.4em;\n",
       "  background-color: var(--sklearn-color-background);\n",
       "}\n",
       "\n",
       "#sk-container-id-7 div.sk-container {\n",
       "  /* jupyter's `normalize.less` sets `[hidden] { display: none; }`\n",
       "     but bootstrap.min.css set `[hidden] { display: none !important; }`\n",
       "     so we also need the `!important` here to be able to override the\n",
       "     default hidden behavior on the sphinx rendered scikit-learn.org.\n",
       "     See: https://github.com/scikit-learn/scikit-learn/issues/21755 */\n",
       "  display: inline-block !important;\n",
       "  position: relative;\n",
       "}\n",
       "\n",
       "#sk-container-id-7 div.sk-text-repr-fallback {\n",
       "  display: none;\n",
       "}\n",
       "\n",
       "div.sk-parallel-item,\n",
       "div.sk-serial,\n",
       "div.sk-item {\n",
       "  /* draw centered vertical line to link estimators */\n",
       "  background-image: linear-gradient(var(--sklearn-color-text-on-default-background), var(--sklearn-color-text-on-default-background));\n",
       "  background-size: 2px 100%;\n",
       "  background-repeat: no-repeat;\n",
       "  background-position: center center;\n",
       "}\n",
       "\n",
       "/* Parallel-specific style estimator block */\n",
       "\n",
       "#sk-container-id-7 div.sk-parallel-item::after {\n",
       "  content: \"\";\n",
       "  width: 100%;\n",
       "  border-bottom: 2px solid var(--sklearn-color-text-on-default-background);\n",
       "  flex-grow: 1;\n",
       "}\n",
       "\n",
       "#sk-container-id-7 div.sk-parallel {\n",
       "  display: flex;\n",
       "  align-items: stretch;\n",
       "  justify-content: center;\n",
       "  background-color: var(--sklearn-color-background);\n",
       "  position: relative;\n",
       "}\n",
       "\n",
       "#sk-container-id-7 div.sk-parallel-item {\n",
       "  display: flex;\n",
       "  flex-direction: column;\n",
       "}\n",
       "\n",
       "#sk-container-id-7 div.sk-parallel-item:first-child::after {\n",
       "  align-self: flex-end;\n",
       "  width: 50%;\n",
       "}\n",
       "\n",
       "#sk-container-id-7 div.sk-parallel-item:last-child::after {\n",
       "  align-self: flex-start;\n",
       "  width: 50%;\n",
       "}\n",
       "\n",
       "#sk-container-id-7 div.sk-parallel-item:only-child::after {\n",
       "  width: 0;\n",
       "}\n",
       "\n",
       "/* Serial-specific style estimator block */\n",
       "\n",
       "#sk-container-id-7 div.sk-serial {\n",
       "  display: flex;\n",
       "  flex-direction: column;\n",
       "  align-items: center;\n",
       "  background-color: var(--sklearn-color-background);\n",
       "  padding-right: 1em;\n",
       "  padding-left: 1em;\n",
       "}\n",
       "\n",
       "\n",
       "/* Toggleable style: style used for estimator/Pipeline/ColumnTransformer box that is\n",
       "clickable and can be expanded/collapsed.\n",
       "- Pipeline and ColumnTransformer use this feature and define the default style\n",
       "- Estimators will overwrite some part of the style using the `sk-estimator` class\n",
       "*/\n",
       "\n",
       "/* Pipeline and ColumnTransformer style (default) */\n",
       "\n",
       "#sk-container-id-7 div.sk-toggleable {\n",
       "  /* Default theme specific background. It is overwritten whether we have a\n",
       "  specific estimator or a Pipeline/ColumnTransformer */\n",
       "  background-color: var(--sklearn-color-background);\n",
       "}\n",
       "\n",
       "/* Toggleable label */\n",
       "#sk-container-id-7 label.sk-toggleable__label {\n",
       "  cursor: pointer;\n",
       "  display: block;\n",
       "  width: 100%;\n",
       "  margin-bottom: 0;\n",
       "  padding: 0.5em;\n",
       "  box-sizing: border-box;\n",
       "  text-align: center;\n",
       "}\n",
       "\n",
       "#sk-container-id-7 label.sk-toggleable__label-arrow:before {\n",
       "  /* Arrow on the left of the label */\n",
       "  content: \"▸\";\n",
       "  float: left;\n",
       "  margin-right: 0.25em;\n",
       "  color: var(--sklearn-color-icon);\n",
       "}\n",
       "\n",
       "#sk-container-id-7 label.sk-toggleable__label-arrow:hover:before {\n",
       "  color: var(--sklearn-color-text);\n",
       "}\n",
       "\n",
       "/* Toggleable content - dropdown */\n",
       "\n",
       "#sk-container-id-7 div.sk-toggleable__content {\n",
       "  max-height: 0;\n",
       "  max-width: 0;\n",
       "  overflow: hidden;\n",
       "  text-align: left;\n",
       "  /* unfitted */\n",
       "  background-color: var(--sklearn-color-unfitted-level-0);\n",
       "}\n",
       "\n",
       "#sk-container-id-7 div.sk-toggleable__content.fitted {\n",
       "  /* fitted */\n",
       "  background-color: var(--sklearn-color-fitted-level-0);\n",
       "}\n",
       "\n",
       "#sk-container-id-7 div.sk-toggleable__content pre {\n",
       "  margin: 0.2em;\n",
       "  border-radius: 0.25em;\n",
       "  color: var(--sklearn-color-text);\n",
       "  /* unfitted */\n",
       "  background-color: var(--sklearn-color-unfitted-level-0);\n",
       "}\n",
       "\n",
       "#sk-container-id-7 div.sk-toggleable__content.fitted pre {\n",
       "  /* unfitted */\n",
       "  background-color: var(--sklearn-color-fitted-level-0);\n",
       "}\n",
       "\n",
       "#sk-container-id-7 input.sk-toggleable__control:checked~div.sk-toggleable__content {\n",
       "  /* Expand drop-down */\n",
       "  max-height: 200px;\n",
       "  max-width: 100%;\n",
       "  overflow: auto;\n",
       "}\n",
       "\n",
       "#sk-container-id-7 input.sk-toggleable__control:checked~label.sk-toggleable__label-arrow:before {\n",
       "  content: \"▾\";\n",
       "}\n",
       "\n",
       "/* Pipeline/ColumnTransformer-specific style */\n",
       "\n",
       "#sk-container-id-7 div.sk-label input.sk-toggleable__control:checked~label.sk-toggleable__label {\n",
       "  color: var(--sklearn-color-text);\n",
       "  background-color: var(--sklearn-color-unfitted-level-2);\n",
       "}\n",
       "\n",
       "#sk-container-id-7 div.sk-label.fitted input.sk-toggleable__control:checked~label.sk-toggleable__label {\n",
       "  background-color: var(--sklearn-color-fitted-level-2);\n",
       "}\n",
       "\n",
       "/* Estimator-specific style */\n",
       "\n",
       "/* Colorize estimator box */\n",
       "#sk-container-id-7 div.sk-estimator input.sk-toggleable__control:checked~label.sk-toggleable__label {\n",
       "  /* unfitted */\n",
       "  background-color: var(--sklearn-color-unfitted-level-2);\n",
       "}\n",
       "\n",
       "#sk-container-id-7 div.sk-estimator.fitted input.sk-toggleable__control:checked~label.sk-toggleable__label {\n",
       "  /* fitted */\n",
       "  background-color: var(--sklearn-color-fitted-level-2);\n",
       "}\n",
       "\n",
       "#sk-container-id-7 div.sk-label label.sk-toggleable__label,\n",
       "#sk-container-id-7 div.sk-label label {\n",
       "  /* The background is the default theme color */\n",
       "  color: var(--sklearn-color-text-on-default-background);\n",
       "}\n",
       "\n",
       "/* On hover, darken the color of the background */\n",
       "#sk-container-id-7 div.sk-label:hover label.sk-toggleable__label {\n",
       "  color: var(--sklearn-color-text);\n",
       "  background-color: var(--sklearn-color-unfitted-level-2);\n",
       "}\n",
       "\n",
       "/* Label box, darken color on hover, fitted */\n",
       "#sk-container-id-7 div.sk-label.fitted:hover label.sk-toggleable__label.fitted {\n",
       "  color: var(--sklearn-color-text);\n",
       "  background-color: var(--sklearn-color-fitted-level-2);\n",
       "}\n",
       "\n",
       "/* Estimator label */\n",
       "\n",
       "#sk-container-id-7 div.sk-label label {\n",
       "  font-family: monospace;\n",
       "  font-weight: bold;\n",
       "  display: inline-block;\n",
       "  line-height: 1.2em;\n",
       "}\n",
       "\n",
       "#sk-container-id-7 div.sk-label-container {\n",
       "  text-align: center;\n",
       "}\n",
       "\n",
       "/* Estimator-specific */\n",
       "#sk-container-id-7 div.sk-estimator {\n",
       "  font-family: monospace;\n",
       "  border: 1px dotted var(--sklearn-color-border-box);\n",
       "  border-radius: 0.25em;\n",
       "  box-sizing: border-box;\n",
       "  margin-bottom: 0.5em;\n",
       "  /* unfitted */\n",
       "  background-color: var(--sklearn-color-unfitted-level-0);\n",
       "}\n",
       "\n",
       "#sk-container-id-7 div.sk-estimator.fitted {\n",
       "  /* fitted */\n",
       "  background-color: var(--sklearn-color-fitted-level-0);\n",
       "}\n",
       "\n",
       "/* on hover */\n",
       "#sk-container-id-7 div.sk-estimator:hover {\n",
       "  /* unfitted */\n",
       "  background-color: var(--sklearn-color-unfitted-level-2);\n",
       "}\n",
       "\n",
       "#sk-container-id-7 div.sk-estimator.fitted:hover {\n",
       "  /* fitted */\n",
       "  background-color: var(--sklearn-color-fitted-level-2);\n",
       "}\n",
       "\n",
       "/* Specification for estimator info (e.g. \"i\" and \"?\") */\n",
       "\n",
       "/* Common style for \"i\" and \"?\" */\n",
       "\n",
       ".sk-estimator-doc-link,\n",
       "a:link.sk-estimator-doc-link,\n",
       "a:visited.sk-estimator-doc-link {\n",
       "  float: right;\n",
       "  font-size: smaller;\n",
       "  line-height: 1em;\n",
       "  font-family: monospace;\n",
       "  background-color: var(--sklearn-color-background);\n",
       "  border-radius: 1em;\n",
       "  height: 1em;\n",
       "  width: 1em;\n",
       "  text-decoration: none !important;\n",
       "  margin-left: 1ex;\n",
       "  /* unfitted */\n",
       "  border: var(--sklearn-color-unfitted-level-1) 1pt solid;\n",
       "  color: var(--sklearn-color-unfitted-level-1);\n",
       "}\n",
       "\n",
       ".sk-estimator-doc-link.fitted,\n",
       "a:link.sk-estimator-doc-link.fitted,\n",
       "a:visited.sk-estimator-doc-link.fitted {\n",
       "  /* fitted */\n",
       "  border: var(--sklearn-color-fitted-level-1) 1pt solid;\n",
       "  color: var(--sklearn-color-fitted-level-1);\n",
       "}\n",
       "\n",
       "/* On hover */\n",
       "div.sk-estimator:hover .sk-estimator-doc-link:hover,\n",
       ".sk-estimator-doc-link:hover,\n",
       "div.sk-label-container:hover .sk-estimator-doc-link:hover,\n",
       ".sk-estimator-doc-link:hover {\n",
       "  /* unfitted */\n",
       "  background-color: var(--sklearn-color-unfitted-level-3);\n",
       "  color: var(--sklearn-color-background);\n",
       "  text-decoration: none;\n",
       "}\n",
       "\n",
       "div.sk-estimator.fitted:hover .sk-estimator-doc-link.fitted:hover,\n",
       ".sk-estimator-doc-link.fitted:hover,\n",
       "div.sk-label-container:hover .sk-estimator-doc-link.fitted:hover,\n",
       ".sk-estimator-doc-link.fitted:hover {\n",
       "  /* fitted */\n",
       "  background-color: var(--sklearn-color-fitted-level-3);\n",
       "  color: var(--sklearn-color-background);\n",
       "  text-decoration: none;\n",
       "}\n",
       "\n",
       "/* Span, style for the box shown on hovering the info icon */\n",
       ".sk-estimator-doc-link span {\n",
       "  display: none;\n",
       "  z-index: 9999;\n",
       "  position: relative;\n",
       "  font-weight: normal;\n",
       "  right: .2ex;\n",
       "  padding: .5ex;\n",
       "  margin: .5ex;\n",
       "  width: min-content;\n",
       "  min-width: 20ex;\n",
       "  max-width: 50ex;\n",
       "  color: var(--sklearn-color-text);\n",
       "  box-shadow: 2pt 2pt 4pt #999;\n",
       "  /* unfitted */\n",
       "  background: var(--sklearn-color-unfitted-level-0);\n",
       "  border: .5pt solid var(--sklearn-color-unfitted-level-3);\n",
       "}\n",
       "\n",
       ".sk-estimator-doc-link.fitted span {\n",
       "  /* fitted */\n",
       "  background: var(--sklearn-color-fitted-level-0);\n",
       "  border: var(--sklearn-color-fitted-level-3);\n",
       "}\n",
       "\n",
       ".sk-estimator-doc-link:hover span {\n",
       "  display: block;\n",
       "}\n",
       "\n",
       "/* \"?\"-specific style due to the `<a>` HTML tag */\n",
       "\n",
       "#sk-container-id-7 a.estimator_doc_link {\n",
       "  float: right;\n",
       "  font-size: 1rem;\n",
       "  line-height: 1em;\n",
       "  font-family: monospace;\n",
       "  background-color: var(--sklearn-color-background);\n",
       "  border-radius: 1rem;\n",
       "  height: 1rem;\n",
       "  width: 1rem;\n",
       "  text-decoration: none;\n",
       "  /* unfitted */\n",
       "  color: var(--sklearn-color-unfitted-level-1);\n",
       "  border: var(--sklearn-color-unfitted-level-1) 1pt solid;\n",
       "}\n",
       "\n",
       "#sk-container-id-7 a.estimator_doc_link.fitted {\n",
       "  /* fitted */\n",
       "  border: var(--sklearn-color-fitted-level-1) 1pt solid;\n",
       "  color: var(--sklearn-color-fitted-level-1);\n",
       "}\n",
       "\n",
       "/* On hover */\n",
       "#sk-container-id-7 a.estimator_doc_link:hover {\n",
       "  /* unfitted */\n",
       "  background-color: var(--sklearn-color-unfitted-level-3);\n",
       "  color: var(--sklearn-color-background);\n",
       "  text-decoration: none;\n",
       "}\n",
       "\n",
       "#sk-container-id-7 a.estimator_doc_link.fitted:hover {\n",
       "  /* fitted */\n",
       "  background-color: var(--sklearn-color-fitted-level-3);\n",
       "}\n",
       "</style><div id=\"sk-container-id-7\" class=\"sk-top-container\"><div class=\"sk-text-repr-fallback\"><pre>LinearRegression()</pre><b>In a Jupyter environment, please rerun this cell to show the HTML representation or trust the notebook. <br />On GitHub, the HTML representation is unable to render, please try loading this page with nbviewer.org.</b></div><div class=\"sk-container\" hidden><div class=\"sk-item\"><div class=\"sk-estimator fitted sk-toggleable\"><input class=\"sk-toggleable__control sk-hidden--visually\" id=\"sk-estimator-id-7\" type=\"checkbox\" checked><label for=\"sk-estimator-id-7\" class=\"sk-toggleable__label fitted sk-toggleable__label-arrow fitted\">&nbsp;&nbsp;LinearRegression<a class=\"sk-estimator-doc-link fitted\" rel=\"noreferrer\" target=\"_blank\" href=\"https://scikit-learn.org/1.5/modules/generated/sklearn.linear_model.LinearRegression.html\">?<span>Documentation for LinearRegression</span></a><span class=\"sk-estimator-doc-link fitted\">i<span>Fitted</span></span></label><div class=\"sk-toggleable__content fitted\"><pre>LinearRegression()</pre></div> </div></div></div></div>"
      ],
      "text/plain": [
       "LinearRegression()"
      ]
     },
     "execution_count": 157,
     "metadata": {},
     "output_type": "execute_result"
    }
   ],
   "source": [
    "#criação e treinamento do modelo\n",
    "RegressaoLinear = LinearRegression()\n",
    "RegressaoLinear.fit(x_train,y_train)"
   ]
  },
  {
   "cell_type": "code",
   "execution_count": 158,
   "id": "c1ee6f7d-b601-4678-89b7-46934059bb45",
   "metadata": {},
   "outputs": [
    {
     "data": {
      "text/plain": [
       "array([20.6387875 , 20.83179793, 29.29353471, 15.61983744, 29.9301209 ,\n",
       "       26.56027436, 39.571393  , 27.67553094, 26.8198913 , 25.07984446,\n",
       "       34.01795432, 18.25682545, 19.05590568, 32.48272995, 18.25685573,\n",
       "       20.2263209 , 28.25967742, 21.457196  , 22.98964086, 24.29055463,\n",
       "       20.94228017, 25.48528761, 21.26537672,  6.08732635, 35.53577037,\n",
       "       31.80171172, 19.15952341, 33.74723406, 26.59143315, 20.29504801,\n",
       "       24.33514845, 16.16992874, 27.92038083, 32.07377938, 31.27037931,\n",
       "       10.65707557, 16.42348323, 17.55144689, 18.88076649, 21.8482047 ,\n",
       "       24.71425152, 25.60254327, 17.60385956, 24.47464001, 31.54052541,\n",
       "       32.98445159, 38.21727707, 28.36156481, 32.07484196,  9.16277106,\n",
       "       29.38272952, 23.56518937, 23.61787207, 10.53800496, 10.80894899,\n",
       "       23.46274263, 27.91902345, 24.07677168, 21.21727271, 32.38803292,\n",
       "       17.90090317, 28.6763197 , 41.36039333, 26.03463707,  8.26218977,\n",
       "       18.59035537, 25.08854376, 16.29064327, 30.37319511, 17.31397236,\n",
       "       23.43674734, 41.70395245, 29.25278254, 15.66191639, 11.07767129,\n",
       "       25.77588736, 22.94459256, 18.07324592, 30.8060733 , 21.95127188,\n",
       "       17.62345426, 22.5878647 , 27.9731502 , 24.98872127,  9.65964035,\n",
       "       22.16797349, 19.39034093, 24.47878997, 17.80652155, 30.22259144,\n",
       "       13.7788878 , 15.48598486, 20.19941343, 19.86532484, 15.04504873,\n",
       "        9.3810142 , 21.33247352,  5.23016549, 12.00444351, 20.27226119,\n",
       "       19.58975083, 18.85596227])"
      ]
     },
     "execution_count": 158,
     "metadata": {},
     "output_type": "execute_result"
    }
   ],
   "source": [
    "#predição dos valores\n",
    "forecast = RegressaoLinear.predict(x_test)\n",
    "forecast"
   ]
  },
  {
   "cell_type": "code",
   "execution_count": 176,
   "id": "f5178975-7468-4028-b169-4aa3fc6a9c71",
   "metadata": {},
   "outputs": [],
   "source": [
    "#MAPE\n",
    "def MAPE(y_test,y_pred):\n",
    "    return np.mean(np.abs((y_test-y_pred) / y_pred)) * 100"
   ]
  },
  {
   "cell_type": "code",
   "execution_count": 177,
   "id": "d21650ea-a288-4c98-984f-6b418c3cee6c",
   "metadata": {},
   "outputs": [],
   "source": [
    "#RMSE\n",
    "def RMSE(y_test,y_pred):\n",
    "    return np.sqrt(np.mean(np.power((y_test-y_pred),2)))"
   ]
  },
  {
   "cell_type": "code",
   "execution_count": 178,
   "id": "ce7cae57-259c-45a8-8918-dae97265537d",
   "metadata": {},
   "outputs": [],
   "source": [
    "#range de erro relative RMSE\n",
    "def relativeRMSE(RMSE,Vmax,Vmin):\n",
    "    return (RMSE/(Vmax-Vmin))*100"
   ]
  },
  {
   "cell_type": "code",
   "execution_count": 182,
   "id": "5e23b850-fd62-418d-b1c0-ea5616f301f3",
   "metadata": {},
   "outputs": [
    {
     "name": "stdout",
     "output_type": "stream",
     "text": [
      "O modelo erra em media 9.94% da faixa total dos preços\n"
     ]
    }
   ],
   "source": [
    "RMSEValue = RMSE(y_test,forecast)\n",
    "Vmax = np.max(data[\"MEDV\"])\n",
    "Vmin = np.min(data[\"MEDV\"])\n",
    "relativeRMSEValue = relativeRMSE(RMSEValue,Vmax,Vmin)\n",
    "\n",
    "print(f'O modelo erra em media {relativeRMSEValue:.2f}% da faixa total dos preços')"
   ]
  },
  {
   "cell_type": "code",
   "execution_count": 166,
   "id": "23aa80e2-4534-4df3-a187-1c61217ebd7b",
   "metadata": {},
   "outputs": [
    {
     "name": "stdout",
     "output_type": "stream",
     "text": [
      "15.669592583133152\n"
     ]
    }
   ],
   "source": [
    "print(MAPE(y_test,forecast))"
   ]
  },
  {
   "cell_type": "code",
   "execution_count": 167,
   "id": "d8ad1caa-0255-4488-b0fe-042139fd8d72",
   "metadata": {},
   "outputs": [
    {
     "name": "stdout",
     "output_type": "stream",
     "text": [
      "4.473864083797974\n"
     ]
    }
   ],
   "source": [
    "print(RMSE(y_test,forecast))"
   ]
  },
  {
   "cell_type": "code",
   "execution_count": 161,
   "id": "e208e958-2459-4bec-9f19-bc61622052a4",
   "metadata": {},
   "outputs": [
    {
     "data": {
      "text/plain": [
       "['RegressaoLinear.dot']"
      ]
     },
     "execution_count": 161,
     "metadata": {},
     "output_type": "execute_result"
    }
   ],
   "source": [
    "from joblib import dump\n",
    "\n",
    "dump(RegressaoLinear,'RegressaoLinear.dot')"
   ]
  }
 ],
 "metadata": {
  "kernelspec": {
   "display_name": "Python 3 (ipykernel)",
   "language": "python",
   "name": "python3"
  },
  "language_info": {
   "codemirror_mode": {
    "name": "ipython",
    "version": 3
   },
   "file_extension": ".py",
   "mimetype": "text/x-python",
   "name": "python",
   "nbconvert_exporter": "python",
   "pygments_lexer": "ipython3",
   "version": "3.12.7"
  }
 },
 "nbformat": 4,
 "nbformat_minor": 5
}
